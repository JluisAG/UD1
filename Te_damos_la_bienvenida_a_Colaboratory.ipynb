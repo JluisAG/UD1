{
  "cells": [
    {
      "cell_type": "markdown",
      "metadata": {
        "id": "view-in-github",
        "colab_type": "text"
      },
      "source": [
        "<a href=\"https://colab.research.google.com/github/JluisAG/UD1/blob/main/Te_damos_la_bienvenida_a_Colaboratory.ipynb\" target=\"_parent\"><img src=\"https://colab.research.google.com/assets/colab-badge.svg\" alt=\"Open In Colab\"/></a>"
      ]
    },
    {
      "cell_type": "code",
      "source": [
        "class saludo:\n",
        "  def __init__(self, nombre):\n",
        "    self.nombre= nombre\n",
        "\n",
        "  def decir_hola(self):\n",
        "    return f\"Hola, {self.nombre}!\"\n",
        "\n",
        "nombre_usuario = input(\"¿Cual es tu nombre?\")\n",
        "\n",
        "saludo= saludo(nombre_usuario)\n",
        "\n",
        "print(saludo.decir_hola())\n"
      ],
      "metadata": {
        "id": "7dvRigMcTtQ9"
      },
      "execution_count": null,
      "outputs": []
    }
  ],
  "metadata": {
    "colab": {
      "name": "Te damos la bienvenida a Colaboratory",
      "toc_visible": true,
      "provenance": [],
      "include_colab_link": true
    },
    "kernelspec": {
      "display_name": "Python 3",
      "name": "python3"
    }
  },
  "nbformat": 4,
  "nbformat_minor": 0
}