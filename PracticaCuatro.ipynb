{
  "cells": [
    {
      "cell_type": "markdown",
      "metadata": {
        "id": "view-in-github",
        "colab_type": "text"
      },
      "source": [
        "<a href=\"https://colab.research.google.com/github/JluisAG/UD1/blob/main/PracticaCuatro.ipynb\" target=\"_parent\"><img src=\"https://colab.research.google.com/assets/colab-badge.svg\" alt=\"Open In Colab\"/></a>"
      ]
    },
    {
      "cell_type": "code",
      "source": [
        "class Triangulo:\n",
        "\tdef __init__(self, b, h):\n",
        "\t\tself.b = b\n",
        "\t\tself.h = h\n",
        "\tdef area(self):\n",
        "\t\tr=(self.b * self.h)/2\n",
        "\t\treturn r\n",
        "ba=float(input(\"Escribe la base  \"))\n",
        "ha=float(input(\"Escribe la alturta  \"))\n",
        "triangulo = Triangulo(ba, ha)\n",
        "print(\"Área del triangulo que tiene de una base de:\",ba,\"  altura   \",ha,\"  su area es:  \", triangulo.area())\n"
      ],
      "metadata": {
        "colab": {
          "base_uri": "https://localhost:8080/"
        },
        "id": "AAmHuNudvPnw",
        "outputId": "d216acde-0a2d-4328-851a-375720f9deeb"
      },
      "execution_count": 1,
      "outputs": [
        {
          "output_type": "stream",
          "name": "stdout",
          "text": [
            "Ingresa la primera calificación: 98\n",
            "Ingresa la segunda calificación: 87\n",
            "Ingresa la tercera calificación: 87\n",
            "Ingresa el nombre: juan\n",
            "juan está aprobado con un promedio de 90.66666666666667\n"
          ]
        }
      ]
    }
  ],
  "metadata": {
    "colab": {
      "name": "Te damos la bienvenida a Colaboratory",
      "toc_visible": true,
      "provenance": [],
      "include_colab_link": true
    },
    "kernelspec": {
      "display_name": "Python 3",
      "name": "python3"
    }
  },
  "nbformat": 4,
  "nbformat_minor": 0
}