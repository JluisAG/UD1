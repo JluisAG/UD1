{
  "nbformat": 4,
  "nbformat_minor": 0,
  "metadata": {
    "colab": {
      "provenance": [],
      "authorship_tag": "ABX9TyNox5YHr55TS2mvypXQZCGt",
      "include_colab_link": true
    },
    "kernelspec": {
      "name": "python3",
      "display_name": "Python 3"
    },
    "language_info": {
      "name": "python"
    }
  },
  "cells": [
    {
      "cell_type": "markdown",
      "metadata": {
        "id": "view-in-github",
        "colab_type": "text"
      },
      "source": [
        "<a href=\"https://colab.research.google.com/github/JluisAG/UD1/blob/main/Untitled1.ipynb\" target=\"_parent\"><img src=\"https://colab.research.google.com/assets/colab-badge.svg\" alt=\"Open In Colab\"/></a>"
      ]
    },
    {
      "cell_type": "code",
      "execution_count": null,
      "metadata": {
        "colab": {
          "base_uri": "https://localhost:8080/"
        },
        "id": "fCj4cVejl4LI",
        "outputId": "a7411ec6-34dc-4656-c976-c1d7670d674d"
      },
      "outputs": [
        {
          "output_type": "stream",
          "name": "stdout",
          "text": [
            "hola mundo\n"
          ]
        }
      ],
      "source": [
        "print (\"hola mundo\")"
      ]
    },
    {
      "cell_type": "code",
      "source": [
        "class saludo:\n",
        "  print(\"hola mundo\")\n",
        "\n",
        "s= saludo()"
      ],
      "metadata": {
        "colab": {
          "base_uri": "https://localhost:8080/"
        },
        "id": "bI39M8r0mhHq",
        "outputId": "d604388a-31b1-4b4d-9b59-8d03cdf6d23e"
      },
      "execution_count": null,
      "outputs": [
        {
          "output_type": "stream",
          "name": "stdout",
          "text": [
            "hola mundo\n"
          ]
        }
      ]
    },
    {
      "cell_type": "markdown",
      "source": [
        "Inicia la clase saludo"
      ],
      "metadata": {
        "id": "HC4wDrgFnlgS"
      }
    },
    {
      "cell_type": "code",
      "source": [],
      "metadata": {
        "id": "qRkhc2wenpRE"
      },
      "execution_count": null,
      "outputs": []
    }
  ]
}