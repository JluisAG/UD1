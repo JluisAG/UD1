{
  "cells": [
    {
      "cell_type": "markdown",
      "metadata": {
        "id": "view-in-github",
        "colab_type": "text"
      },
      "source": [
        "<a href=\"https://colab.research.google.com/github/JluisAG/UD1/blob/main/PracticaSeis.ipynb\" target=\"_parent\"><img src=\"https://colab.research.google.com/assets/colab-badge.svg\" alt=\"Open In Colab\"/></a>"
      ]
    },
    {
      "cell_type": "code",
      "source": [
        "class Promedio:\n",
        "    def __init__(self, c1, c2, c3, n):\n",
        "        self.c1 = c1\n",
        "        self.c2 = c2\n",
        "        self.c3 = c3\n",
        "        self.n = n\n",
        "\n",
        "    def promedio(self):\n",
        "        r = (self.c1 + self.c2 + self.c3) / 3\n",
        "        return r\n",
        "\n",
        "    def calificacion(self):\n",
        "        prom = self.promedio()\n",
        "        if prom >= 70:\n",
        "            print(f\"{self.n} está aprobado con un promedio de {prom}\")\n",
        "        else:\n",
        "            print(f\"{self.n} está reprobado con un promedio de {prom}\")\n",
        "\n",
        "\n",
        "c1 = int(input(\"Ingresa la primera calificación: \"))\n",
        "c2 = int(input(\"Ingresa la segunda calificación: \"))\n",
        "c3 = int(input(\"Ingresa la tercera calificación: \"))\n",
        "n = input(\"Ingresa el nombre: \")\n",
        "\n",
        "x = Promedio(c1, c2, c3, n)\n",
        "x.calificacion()\n"
      ],
      "metadata": {
        "id": "AAmHuNudvPnw",
        "outputId": "d216acde-0a2d-4328-851a-375720f9deeb",
        "colab": {
          "base_uri": "https://localhost:8080/"
        }
      },
      "execution_count": 1,
      "outputs": [
        {
          "output_type": "stream",
          "name": "stdout",
          "text": [
            "Ingresa la primera calificación: 98\n",
            "Ingresa la segunda calificación: 87\n",
            "Ingresa la tercera calificación: 87\n",
            "Ingresa el nombre: juan\n",
            "juan está aprobado con un promedio de 90.66666666666667\n"
          ]
        }
      ]
    }
  ],
  "metadata": {
    "colab": {
      "name": "Te damos la bienvenida a Colaboratory",
      "toc_visible": true,
      "provenance": [],
      "include_colab_link": true
    },
    "kernelspec": {
      "display_name": "Python 3",
      "name": "python3"
    }
  },
  "nbformat": 4,
  "nbformat_minor": 0
}